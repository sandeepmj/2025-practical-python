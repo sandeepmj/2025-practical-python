{
 "cells": [
  {
   "cell_type": "markdown",
   "id": "a93d62e4-a8e1-456d-a40f-650b7790568c",
   "metadata": {},
   "source": [
    "## Build a credit check function\n",
    "\n",
    "- 300-579: Poor\n",
    "- 580-669: Fair\n",
    "- 670-739: Good\n",
    "- 740-799: Very good\n",
    "- 800-850: Excellent"
   ]
  },
  {
   "cell_type": "code",
   "execution_count": 47,
   "id": "2fbbd031-6abc-48a9-a5b4-d6ca4b4b95b6",
   "metadata": {},
   "outputs": [],
   "source": [
    "## built credit check function here\n",
    "\n",
    "def creditCheck(credit):\n",
    "    '''\n",
    "    This function takes a number and returns credit rating\n",
    "    para1: provide a number as an integer between \n",
    "    Validates that you have provided an integer\n",
    "    If you provide a float, it truncates it downward. so 349.9 becomes 349\n",
    "    '''\n",
    "    try:\n",
    "        # Convert to int if it's a string or float\n",
    "        credit = int(credit) \n",
    "        # Check if in valid range\n",
    "        if credit < 300 or credit > 850:\n",
    "            return \"Invalid: Credit score must be between 300 and 850\"\n",
    "            \n",
    "        if credit <= 579:\n",
    "            return \"poor\"\n",
    "        # print(f\"Your credit of {credit} is poor\")\n",
    "        elif 580 <= credit <= 669:\n",
    "            return \"fair\"\n",
    "        # print(f\"Your credit of {credit} is fair\")\n",
    "        elif 669 < credit <= 739:\n",
    "            return \"good\"\n",
    "        # print(f\"Your credit of {credit} is good\")\n",
    "        elif 739 < credit <= 799:\n",
    "            return \"very good\"\n",
    "        # print(f\"Your credit of {credit} is very good\")\n",
    "        else:\n",
    "            return \"excellent\"\n",
    "        # print(f\"Your credit of {credit} is excellent\")\n",
    "\n",
    "    except: \n",
    "        print(\"Please provide a credit number as an integer between 300-850\")\n"
   ]
  },
  {
   "cell_type": "code",
   "execution_count": 41,
   "id": "4351547c-2fa6-4fa3-90f5-640177134563",
   "metadata": {},
   "outputs": [
    {
     "data": {
      "text/plain": [
       "'Invalid: Credit score must be between 300 and 850'"
      ]
     },
     "execution_count": 41,
     "metadata": {},
     "output_type": "execute_result"
    }
   ],
   "source": [
    "## test on 20.1\n",
    "creditCheck(20.1)"
   ]
  },
  {
   "cell_type": "code",
   "execution_count": 43,
   "id": "0fc8d580-77c8-4c6f-8b4f-218b71c16043",
   "metadata": {},
   "outputs": [
    {
     "data": {
      "text/plain": [
       "'fair'"
      ]
     },
     "execution_count": 43,
     "metadata": {},
     "output_type": "execute_result"
    }
   ],
   "source": [
    "## test on a 599\n",
    "creditCheck(599)"
   ]
  },
  {
   "cell_type": "code",
   "execution_count": 11,
   "id": "981ab424-9862-40e8-a72d-39fa13534766",
   "metadata": {},
   "outputs": [
    {
     "data": {
      "text/plain": [
       "'excellent'"
      ]
     },
     "execution_count": 11,
     "metadata": {},
     "output_type": "execute_result"
    }
   ],
   "source": [
    "### test on 801\n",
    "creditCheck(801)"
   ]
  },
  {
   "cell_type": "code",
   "execution_count": 45,
   "id": "d24850a5-22fb-4a36-9c78-ce0954fcd291",
   "metadata": {},
   "outputs": [
    {
     "name": "stdout",
     "output_type": "stream",
     "text": [
      "Please provide a credit number as an integer between 300-850\n"
     ]
    }
   ],
   "source": [
    "## test on \"Sandeep\"\n",
    "\n",
    "creditCheck(\"Sandeep\")"
   ]
  },
  {
   "cell_type": "code",
   "execution_count": null,
   "id": "aa0225cc-306d-457d-b23e-032029a2196e",
   "metadata": {},
   "outputs": [],
   "source": []
  }
 ],
 "metadata": {
  "kernelspec": {
   "display_name": "Python [conda env:base] *",
   "language": "python",
   "name": "conda-base-py"
  },
  "language_info": {
   "codemirror_mode": {
    "name": "ipython",
    "version": 3
   },
   "file_extension": ".py",
   "mimetype": "text/x-python",
   "name": "python",
   "nbconvert_exporter": "python",
   "pygments_lexer": "ipython3",
   "version": "3.12.2"
  }
 },
 "nbformat": 4,
 "nbformat_minor": 5
}
