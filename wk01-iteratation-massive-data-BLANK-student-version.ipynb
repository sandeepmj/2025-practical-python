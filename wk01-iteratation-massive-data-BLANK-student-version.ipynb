{
 "cells": [
  {
   "cell_type": "markdown",
   "metadata": {
    "id": "XI6zto6STb4w",
    "slideshow": {
     "slide_type": "slide"
    }
   },
   "source": [
    "# Week 1 - Iterating through data using Python\n",
    "\n",
    "## A real data challenge – a massive dataset\n",
    "\n",
    "You want to explore `NYC EMS data since 2011` to see if COVID was already spreading through NYC well before the stay-at-home order in Mid-March 2020. \n",
    "\n",
    "But you are saddled with a <a href=\"https://www.dropbox.com/scl/fi/qni8e1g8pv7qc21y2ijp3/EMS_Incident_Dispatch_Data_20240407.csv.zip?rlkey=ybnhybbl3ljas5xa8f1e37msx&st=xqrn50vd&dl=0\">massive file</a> that is `6+GB` that has `more than 26 million` rows of data. \n",
    "\n",
    "What is your strategy? \n",
    "\n",
    "\n",
    "\n",
    "\n",
    "\n",
    "\n",
    "\n",
    "\n",
    "\n",
    "\n"
   ]
  },
  {
   "cell_type": "code",
   "execution_count": null,
   "metadata": {},
   "outputs": [],
   "source": []
  },
  {
   "cell_type": "code",
   "execution_count": null,
   "metadata": {},
   "outputs": [],
   "source": []
  },
  {
   "cell_type": "code",
   "execution_count": null,
   "metadata": {},
   "outputs": [],
   "source": []
  },
  {
   "cell_type": "code",
   "execution_count": null,
   "metadata": {},
   "outputs": [],
   "source": [
    "## run this cell to activate the list\n",
    "myURLS = [\n",
    "    'great-unique-data-1.html',\n",
    "    'great-unique-data-2.html',\n",
    "    'great-unique-data-3.html',\n",
    "    'great-unique-data-4.html',\n",
    "    'great-unique-data-5.html',\n",
    "    'great-unique-data-6.html',\n",
    "    'great-unique-data-7.html',\n",
    "    'great-unique-data-8.html',\n",
    "    'great-unique-data-9.html',\n",
    "    'great-unique-data-10.html',\n",
    "    'great-unique-data-11.html',\n",
    "    'great-unique-data-12.html',\n",
    "    'great-unique-data-13.html',\n",
    "    'great-unique-data-14.html',\n",
    "    'great-unique-data-15.html'\n",
    "]\n",
    "\n",
    "myURLS"
   ]
  }
 ],
 "metadata": {
  "celltoolbar": "Slideshow",
  "colab": {
   "collapsed_sections": [
    "T8x4Mm-sTb43",
    "T6xApuSYTb5U"
   ],
   "name": "week-2-loops-list-comprehension-DEMO.ipynb",
   "provenance": [
    {
     "file_id": "1Nk6T3S4k1zH52s3eHzo4i1Yxx-iD6UjE",
     "timestamp": 1646140841906
    },
    {
     "file_id": "1cw5emV9TDdgVqq2HhYPppUKFYLobtPVC",
     "timestamp": 1642538656229
    },
    {
     "file_id": "1DhXxhMrJcwYydB2VNDAPReeAni-DDDHS",
     "timestamp": 1624385199338
    }
   ]
  },
  "kernelspec": {
   "display_name": "test1",
   "language": "python",
   "name": "test1"
  },
  "language_info": {
   "codemirror_mode": {
    "name": "ipython",
    "version": 3
   },
   "file_extension": ".py",
   "mimetype": "text/x-python",
   "name": "python",
   "nbconvert_exporter": "python",
   "pygments_lexer": "ipython3",
   "version": "3.9.6"
  }
 },
 "nbformat": 4,
 "nbformat_minor": 4
}
