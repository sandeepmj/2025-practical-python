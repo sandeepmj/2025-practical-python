{
 "cells": [
  {
   "cell_type": "markdown",
   "id": "f492c687",
   "metadata": {},
   "source": [
    "# Challenge – Multi-page Tables Scrape \n",
    "\n",
    "You're often going to encounter data and tables spread across hundreds if not thousands of pages. We might want, for example, to compile details about all the doctors  <a href=\"https://apps.health.ny.gov/pubdoh/professionals/doctors/conduct/factions/AllRecordsAction.action\">on this site</a> and export to a ```dataframe``` and a ```.csv``` file.\n",
    "\n",
    "But we'll practice first on <a href=\"https://sandeepmj.github.io/scrape-example-page/heaviest-animals-page1.html\">a mock site</a>.\n",
    "\n",
    "While you could try to jump straight to your AI Assistants, let's brainstorm how you might, in pseudocoding, scrape this site. "
   ]
  },
  {
   "cell_type": "markdown",
   "id": "417c67d6",
   "metadata": {},
   "source": [
    "## <a id='toc1_'></a>[Controlling the flow](#toc0_)\n",
    "\n",
    "We always need to ensure that our scripts are able to handle various scenarios to return error-free and meaningful outputs. We do this by controlling the flow of our code (and not just how fast it runs).\n",
    "\n",
    "Here are two main reasons we will control the flow:\n",
    "\n",
    "\n",
    "### 1. <a id='toc1_1_2_'></a>[Exception Handling: managing unforeseen errors](#toc0_)\n",
    "\n",
    "> Our scripts might need to interact with external web pages (or documents or other data). We can't account for every single variation we might run into and our code will break down when it doesn't know how to proceed.\n",
    "\n",
    "> Flow control ensures that when errors happen, the program can handle them gracefully instead of crashing.\n",
    "\n",
    "### 2. <a id='toc1_1_3_'></a>[Time Delays - pacing the speed of our code.](#toc0_)\n",
    "\n",
    "> Python can be super fast – often faster than a website can populate its content. We need to slow down our code.\n",
    "\n",
    "\n",
    "\n",
    "\n",
    "\n",
    "\n",
    "\n",
    "\n"
   ]
  },
  {
   "cell_type": "code",
   "execution_count": 1,
   "id": "0ff6003f",
   "metadata": {},
   "outputs": [
    {
     "name": "stdout",
     "output_type": "stream",
     "text": [
      "The Zen of Python, by Tim Peters\n",
      "\n",
      "Beautiful is better than ugly.\n",
      "Explicit is better than implicit.\n",
      "Simple is better than complex.\n",
      "Complex is better than complicated.\n",
      "Flat is better than nested.\n",
      "Sparse is better than dense.\n",
      "Readability counts.\n",
      "Special cases aren't special enough to break the rules.\n",
      "Although practicality beats purity.\n",
      "Errors should never pass silently.\n",
      "Unless explicitly silenced.\n",
      "In the face of ambiguity, refuse the temptation to guess.\n",
      "There should be one-- and preferably only one --obvious way to do it.\n",
      "Although that way may not be obvious at first unless you're Dutch.\n",
      "Now is better than never.\n",
      "Although never is often better than *right* now.\n",
      "If the implementation is hard to explain, it's a bad idea.\n",
      "If the implementation is easy to explain, it may be a good idea.\n",
      "Namespaces are one honking great idea -- let's do more of those!\n"
     ]
    }
   ],
   "source": [
    "## the zen of python\n",
    "import this"
   ]
  },
  {
   "cell_type": "markdown",
   "id": "c62290c0",
   "metadata": {},
   "source": [
    "### 2. Exception Handling: managing unforeseen errors\n",
    "\n",
    "> Our scripts might need to interact with external web pages (or documents or other data). We can't account for every single variation we might run into and our code will break down when it doesn't know how to proceed.\n",
    "\n",
    "> Flow control ensures that when errors happen, the program can handle them gracefully instead of crashing.\n"
   ]
  },
  {
   "cell_type": "markdown",
   "id": "8781e768",
   "metadata": {},
   "source": [
    "In Python, an ```exception``` is an error that occurs during the execution of a script.\n",
    "If not handled, exceptions will stop the program and raise an error message.\n",
    "\n",
    "We will run into errors when we scrape webpages, read documents and run natural language analysis. \n",
    "\n",
    "We might have to iterate through 10,000 links to scrape the content of each page. If some of those pages aren't structured as our scraper expects, our script will break. We'll get to those more complex cases in the near future. Today, we'll deal with a simplier ```exception```."
   ]
  },
  {
   "cell_type": "code",
   "execution_count": 3,
   "id": "c695dccd",
   "metadata": {},
   "outputs": [
    {
     "data": {
      "text/plain": [
       "10.0"
      ]
     },
     "execution_count": 3,
     "metadata": {},
     "output_type": "execute_result"
    }
   ],
   "source": [
    "## divide 100 by 10\n",
    "100 /10"
   ]
  },
  {
   "cell_type": "code",
   "execution_count": 5,
   "id": "c541f8db",
   "metadata": {},
   "outputs": [
    {
     "ename": "ZeroDivisionError",
     "evalue": "division by zero",
     "output_type": "error",
     "traceback": [
      "\u001b[0;31m---------------------------------------------------------------------------\u001b[0m",
      "\u001b[0;31mZeroDivisionError\u001b[0m                         Traceback (most recent call last)",
      "Cell \u001b[0;32mIn[5], line 2\u001b[0m\n\u001b[1;32m      1\u001b[0m \u001b[38;5;66;03m## divide 100 by 0\u001b[39;00m\n\u001b[0;32m----> 2\u001b[0m \u001b[38;5;241;43m100\u001b[39;49m\u001b[43m \u001b[49m\u001b[38;5;241;43m/\u001b[39;49m\u001b[43m \u001b[49m\u001b[38;5;241;43m0\u001b[39;49m\n",
      "\u001b[0;31mZeroDivisionError\u001b[0m: division by zero"
     ]
    }
   ],
   "source": [
    "## divide 100 by 0\n",
    "100 / 0\n"
   ]
  },
  {
   "cell_type": "markdown",
   "id": "b8f761e1",
   "metadata": {},
   "source": [
    "### ```try-except``` blocks:\n",
    "\n",
    "<img src=\"https://sandeepmj.github.io/image-host/try-except.png\" width=\"550\">\n"
   ]
  },
  {
   "cell_type": "code",
   "execution_count": 9,
   "id": "224b7c7a",
   "metadata": {},
   "outputs": [
    {
     "name": "stdin",
     "output_type": "stream",
     "text": [
      "enter number:  0\n"
     ]
    },
    {
     "name": "stdout",
     "output_type": "stream",
     "text": [
      "you can't divide by zero!\n"
     ]
    }
   ],
   "source": [
    "## code try-except block here\n",
    "try:\n",
    "    num = int(input(\"enter number: \"))\n",
    "    result = 100 / num\n",
    "    print(f\"100 divided by {num} is {result}\")\n",
    "except ZeroDivisionError:\n",
    "    print(\"you can't divide by zero!\")\n",
    "\n"
   ]
  },
  {
   "cell_type": "markdown",
   "id": "ff453850",
   "metadata": {},
   "source": [
    "### You can have multiple exceptions"
   ]
  },
  {
   "cell_type": "code",
   "execution_count": 11,
   "id": "9343935c",
   "metadata": {},
   "outputs": [
    {
     "name": "stdin",
     "output_type": "stream",
     "text": [
      "enter number:  dog\n"
     ]
    },
    {
     "ename": "ValueError",
     "evalue": "invalid literal for int() with base 10: 'dog'",
     "output_type": "error",
     "traceback": [
      "\u001b[0;31m---------------------------------------------------------------------------\u001b[0m",
      "\u001b[0;31mValueError\u001b[0m                                Traceback (most recent call last)",
      "Cell \u001b[0;32mIn[11], line 3\u001b[0m\n\u001b[1;32m      1\u001b[0m \u001b[38;5;66;03m## divide a number by a string\u001b[39;00m\n\u001b[1;32m      2\u001b[0m \u001b[38;5;28;01mtry\u001b[39;00m:\n\u001b[0;32m----> 3\u001b[0m     num \u001b[38;5;241m=\u001b[39m \u001b[38;5;28;43mint\u001b[39;49m\u001b[43m(\u001b[49m\u001b[38;5;28;43minput\u001b[39;49m\u001b[43m(\u001b[49m\u001b[38;5;124;43m\"\u001b[39;49m\u001b[38;5;124;43menter number: \u001b[39;49m\u001b[38;5;124;43m\"\u001b[39;49m\u001b[43m)\u001b[49m\u001b[43m)\u001b[49m\n\u001b[1;32m      4\u001b[0m     result \u001b[38;5;241m=\u001b[39m \u001b[38;5;241m100\u001b[39m \u001b[38;5;241m/\u001b[39m num\n\u001b[1;32m      5\u001b[0m     \u001b[38;5;28mprint\u001b[39m(\u001b[38;5;124mf\u001b[39m\u001b[38;5;124m\"\u001b[39m\u001b[38;5;124m100 divided by \u001b[39m\u001b[38;5;132;01m{\u001b[39;00mnum\u001b[38;5;132;01m}\u001b[39;00m\u001b[38;5;124m is \u001b[39m\u001b[38;5;132;01m{\u001b[39;00mresult\u001b[38;5;132;01m}\u001b[39;00m\u001b[38;5;124m\"\u001b[39m)\n",
      "\u001b[0;31mValueError\u001b[0m: invalid literal for int() with base 10: 'dog'"
     ]
    }
   ],
   "source": [
    "## divide a number by a string\n",
    "try:\n",
    "    num = int(input(\"enter number: \"))\n",
    "    result = 100 / num\n",
    "    print(f\"100 divided by {num} is {result}\")\n",
    "except ZeroDivisionError:\n",
    "    print(\"you can't divide by zero!\")"
   ]
  },
  {
   "cell_type": "code",
   "execution_count": 13,
   "id": "a2712ba6",
   "metadata": {},
   "outputs": [
    {
     "name": "stdin",
     "output_type": "stream",
     "text": [
      "enter number:  dog\n"
     ]
    },
    {
     "name": "stdout",
     "output_type": "stream",
     "text": [
      "you can't divide a number by a string\n"
     ]
    }
   ],
   "source": [
    "## code try-multiple exceptions here\n",
    "try:\n",
    "    num = int(input(\"enter number: \"))\n",
    "    result = 100 / num\n",
    "    print(f\"100 divided by {num} is {result}\")\n",
    "except ZeroDivisionError:\n",
    "    print(\"you can't divide by zero!\")\n",
    "except ValueError:\n",
    "    print(\"you can't divide a number by a string\")"
   ]
  },
  {
   "cell_type": "markdown",
   "id": "4aff1a5a",
   "metadata": {},
   "source": [
    "### ```try-except-finally```\n",
    "\n",
    "We tack on a ```finally``` block that executes code regardless of whether an exception was raised or not, usually just to show us how far our code has progressed.\n",
    "\n",
    "<img src=\"https://sandeepmj.github.io/image-host/try-except-finally.png\" width=\"550\">\n"
   ]
  },
  {
   "cell_type": "code",
   "execution_count": 27,
   "id": "056e1ee3",
   "metadata": {},
   "outputs": [
    {
     "name": "stdout",
     "output_type": "stream",
     "text": [
      "You can't divide by a string\n",
      "prices are going up no matter what\n"
     ]
    }
   ],
   "source": [
    "## demo here\n",
    "\n",
    "rent = 1_000\n",
    "# food = 300\n",
    "# income = 1_500\n",
    "income = \"$1,500\"\n",
    "food = \"300\"\n",
    "\n",
    "try: \n",
    "    remaining_balance = income - food - rent\n",
    "    print(remaining_balance)\n",
    "except TypeError:\n",
    "    print(\"You can't divide by a string\")\n",
    "finally:\n",
    "    print(\"prices are going up no matter what\")\n"
   ]
  },
  {
   "cell_type": "markdown",
   "id": "d57a391c",
   "metadata": {},
   "source": [
    "## Totally Unexpected Errors?\n",
    "\n",
    "You actually don't even need to know what type of error you might encounter.\n",
    "\n",
    "You can log an error, using the ```logging``` package."
   ]
  },
  {
   "cell_type": "code",
   "execution_count": null,
   "id": "3ab7bf7c",
   "metadata": {},
   "outputs": [],
   "source": [
    "## code try-except variables here\n",
    "rent = 1_000\n",
    "# food = 300\n",
    "# income = 1_500\n",
    "income = \"$1,500\"\n",
    "food = \"300\"\n",
    "\n",
    "try: \n",
    "    remaining_balance = income - food - rent\n",
    "    print(remaining_balance)\n",
    "except TypeError:\n",
    "    print(\"You can't divide by a string\")\n",
    "finally:\n",
    "    print(\"prices are going up no matter what\")"
   ]
  },
  {
   "cell_type": "code",
   "execution_count": 29,
   "id": "9c547772",
   "metadata": {},
   "outputs": [],
   "source": [
    "## import logging\n",
    "import logging"
   ]
  },
  {
   "cell_type": "code",
   "execution_count": 33,
   "id": "caf3f2a0",
   "metadata": {},
   "outputs": [
    {
     "name": "stderr",
     "output_type": "stream",
     "text": [
      "ERROR:root:something went wrong\n",
      "Traceback (most recent call last):\n",
      "  File \"/var/folders/jg/xjfmqdcj0m1bqs1d7sgv9v480000gp/T/ipykernel_19032/1426120569.py\", line 3, in <module>\n",
      "    remaining_balance = income - food - rent\n",
      "TypeError: unsupported operand type(s) for -: 'str' and 'str'\n"
     ]
    },
    {
     "name": "stdout",
     "output_type": "stream",
     "text": [
      "prices are going up no matter what\n"
     ]
    }
   ],
   "source": [
    "## try with logging\n",
    "try: \n",
    "    remaining_balance = income - food - rent\n",
    "    print(remaining_balance)\n",
    "    if remaining_balance < 0:\n",
    "        print(\"You are spending more than you earn\")\n",
    "    else: \n",
    "        print(\"you are making do\")\n",
    "except Exception as e:\n",
    "    logging.exception(\"something went wrong\")\n",
    "finally:\n",
    "    print(\"prices are going up no matter what\")"
   ]
  },
  {
   "cell_type": "markdown",
   "id": "1bec4754",
   "metadata": {},
   "source": [
    "### 2. Time Delays\n",
    "\n",
    "**Delay timers** are critical when scraping data from websites for several reasons. The **two** most important reasons are:\n",
    "\n",
    "1. Sometimes your scraper clicks on links and must wait for the content to actually populated on the new page. Your script is likely to run faster than a page can load.\n",
    "\n",
    "\n",
    "2. You don't want your scraper to be mistaken for a hostile attack on a server. You have to slow down the scrapes."
   ]
  },
  {
   "cell_type": "code",
   "execution_count": 35,
   "id": "e1033784",
   "metadata": {},
   "outputs": [],
   "source": [
    "## run this cell to activate the list\n",
    "URLS = [\n",
    "    'great-unique-data-1.html',\n",
    "    'great-unique-data-2.html',\n",
    "    'great-unique-data-3.html',\n",
    "    'great-unique-data-4.html',\n",
    "    'great-unique-data-5.html',\n",
    "    'great-unique-data-6.html',\n",
    "    'great-unique-data-7.html',\n",
    "    'great-unique-data-8.html',\n",
    "    'great-unique-data-9.html',\n",
    "    'great-unique-data-10.html',\n",
    "    'great-unique-data-11.html',\n",
    "    'great-unique-data-12.html',\n",
    "    'great-unique-data-13.html',\n",
    "    'great-unique-data-14.html',\n",
    "    'great-unique-data-15.html'\n",
    "]"
   ]
  },
  {
   "cell_type": "code",
   "execution_count": 39,
   "id": "29619934",
   "metadata": {},
   "outputs": [],
   "source": [
    "## import a package includes a method that's like a stopwatch\n",
    "import datetime as dt"
   ]
  },
  {
   "cell_type": "code",
   "execution_count": 47,
   "id": "635d0479",
   "metadata": {},
   "outputs": [
    {
     "name": "stdout",
     "output_type": "stream",
     "text": [
      "scraping 1 of 15 at exactly 2025-09-15 14:42:42.073271: great-unique-data-1.html\n",
      "scraping 2 of 15 at exactly 2025-09-15 14:42:42.073884: great-unique-data-2.html\n",
      "scraping 3 of 15 at exactly 2025-09-15 14:42:42.073904: great-unique-data-3.html\n",
      "scraping 4 of 15 at exactly 2025-09-15 14:42:42.073919: great-unique-data-4.html\n",
      "scraping 5 of 15 at exactly 2025-09-15 14:42:42.073931: great-unique-data-5.html\n",
      "scraping 6 of 15 at exactly 2025-09-15 14:42:42.073944: great-unique-data-6.html\n",
      "scraping 7 of 15 at exactly 2025-09-15 14:42:42.073956: great-unique-data-7.html\n",
      "scraping 8 of 15 at exactly 2025-09-15 14:42:42.073968: great-unique-data-8.html\n",
      "scraping 9 of 15 at exactly 2025-09-15 14:42:42.073981: great-unique-data-9.html\n",
      "scraping 10 of 15 at exactly 2025-09-15 14:42:42.073994: great-unique-data-10.html\n",
      "scraping 11 of 15 at exactly 2025-09-15 14:42:42.074007: great-unique-data-11.html\n",
      "scraping 12 of 15 at exactly 2025-09-15 14:42:42.074020: great-unique-data-12.html\n",
      "scraping 13 of 15 at exactly 2025-09-15 14:42:42.074032: great-unique-data-13.html\n",
      "scraping 14 of 15 at exactly 2025-09-15 14:42:42.074046: great-unique-data-14.html\n",
      "scraping 15 of 15 at exactly 2025-09-15 14:42:42.074057: great-unique-data-15.html\n"
     ]
    }
   ],
   "source": [
    "# time how fast code runs\n",
    "quantity = len(URLS)\n",
    "for i, URL in enumerate(URLS, start = 1):\n",
    "    current_time = dt.datetime.now()\n",
    "    print(f\"scraping {i} of {quantity} at exactly {current_time}: {URL}\")"
   ]
  },
  {
   "cell_type": "code",
   "execution_count": 49,
   "id": "0a8c0878",
   "metadata": {},
   "outputs": [],
   "source": [
    "# time is required. we will use its sleep function\n",
    "import time"
   ]
  },
  {
   "cell_type": "code",
   "execution_count": 51,
   "id": "ce2b5ef8",
   "metadata": {},
   "outputs": [
    {
     "name": "stdout",
     "output_type": "stream",
     "text": [
      "scraping 1 of 15 at exactly 2025-09-15 14:45:51.063257: great-unique-data-1.html\n",
      "Snoozing for 5 seconds\n",
      "scraping 2 of 15 at exactly 2025-09-15 14:45:56.068689: great-unique-data-2.html\n",
      "Snoozing for 5 seconds\n",
      "scraping 3 of 15 at exactly 2025-09-15 14:46:01.070043: great-unique-data-3.html\n",
      "Snoozing for 5 seconds\n",
      "scraping 4 of 15 at exactly 2025-09-15 14:46:06.075862: great-unique-data-4.html\n",
      "Snoozing for 5 seconds\n",
      "scraping 5 of 15 at exactly 2025-09-15 14:46:11.081624: great-unique-data-5.html\n",
      "Snoozing for 5 seconds\n",
      "scraping 6 of 15 at exactly 2025-09-15 14:46:16.087696: great-unique-data-6.html\n",
      "Snoozing for 5 seconds\n",
      "scraping 7 of 15 at exactly 2025-09-15 14:46:21.093522: great-unique-data-7.html\n",
      "Snoozing for 5 seconds\n",
      "scraping 8 of 15 at exactly 2025-09-15 14:46:26.098740: great-unique-data-8.html\n",
      "Snoozing for 5 seconds\n",
      "scraping 9 of 15 at exactly 2025-09-15 14:46:31.103581: great-unique-data-9.html\n",
      "Snoozing for 5 seconds\n",
      "scraping 10 of 15 at exactly 2025-09-15 14:46:36.107496: great-unique-data-10.html\n",
      "Snoozing for 5 seconds\n",
      "scraping 11 of 15 at exactly 2025-09-15 14:46:41.110855: great-unique-data-11.html\n",
      "Snoozing for 5 seconds\n",
      "scraping 12 of 15 at exactly 2025-09-15 14:46:46.111942: great-unique-data-12.html\n",
      "Snoozing for 5 seconds\n",
      "scraping 13 of 15 at exactly 2025-09-15 14:46:51.116675: great-unique-data-13.html\n",
      "Snoozing for 5 seconds\n",
      "scraping 14 of 15 at exactly 2025-09-15 14:46:56.124245: great-unique-data-14.html\n",
      "Snoozing for 5 seconds\n",
      "scraping 15 of 15 at exactly 2025-09-15 14:47:01.129720: great-unique-data-15.html\n",
      "Snoozing for 5 seconds\n"
     ]
    }
   ],
   "source": [
    "## snooze for 5 seconds between scrapes\n",
    "\n",
    "quantity = len(URLS)\n",
    "for i, URL in enumerate(URLS, start = 1):\n",
    "    current_time = dt.datetime.now()\n",
    "    print(f\"scraping {i} of {quantity} at exactly {current_time}: {URL}\")\n",
    "    print(\"Snoozing for 5 seconds\")\n",
    "    time.sleep(5)\n",
    "    \n",
    "\n",
    "    \n"
   ]
  },
  {
   "cell_type": "markdown",
   "id": "bd540122",
   "metadata": {},
   "source": [
    "### Randomize\n",
    "\n",
    "Software that tracks traffic to a server might grow suspicious about a hit every nth seconds.\n",
    "\n",
    "Let's **randomize** the time between hits by using ```randint``` or ```uniform``` from the ```random``` library.\n",
    "\n",
    "\n",
    "#### What's the difference?\n",
    "\n",
    "**Difference 1**\n",
    "\n",
    "```uniform``` returns a ```float```.\n",
    "\n",
    "```randint``` returns an ```integer```. \n",
    "\n",
    "**Syntax**\n",
    "\n",
    "```uniform(1, 10)```  will return a float between 1 and 10\n",
    "\n",
    "```randint(1, 10)``` will return an integer between 1 and 10\n"
   ]
  },
  {
   "cell_type": "code",
   "execution_count": 53,
   "id": "6adbccc5",
   "metadata": {},
   "outputs": [],
   "source": [
    "# import randint necessary library\n",
    "from random import randint, uniform"
   ]
  },
  {
   "cell_type": "code",
   "execution_count": 65,
   "id": "c06d474a",
   "metadata": {},
   "outputs": [
    {
     "data": {
      "text/plain": [
       "9"
      ]
     },
     "execution_count": 65,
     "metadata": {},
     "output_type": "execute_result"
    }
   ],
   "source": [
    "## test it randint\n",
    "randint(5,15)"
   ]
  },
  {
   "cell_type": "code",
   "execution_count": 67,
   "id": "2bfed7b0",
   "metadata": {},
   "outputs": [
    {
     "data": {
      "text/plain": [
       "9.502284622390423"
      ]
     },
     "execution_count": 67,
     "metadata": {},
     "output_type": "execute_result"
    }
   ],
   "source": [
    "## test it uniform\n",
    "uniform(5,15)"
   ]
  },
  {
   "cell_type": "code",
   "execution_count": 69,
   "id": "549949f4",
   "metadata": {},
   "outputs": [
    {
     "name": "stdout",
     "output_type": "stream",
     "text": [
      "scraping 1 of 15 at exactly 2025-09-15 14:52:54.060847: great-unique-data-1.html\n",
      "Snoozing for 15.488563043770775 seconds\n",
      "scraping 2 of 15 at exactly 2025-09-15 14:53:09.554546: great-unique-data-2.html\n",
      "Snoozing for 13.393059173619518 seconds\n",
      "scraping 3 of 15 at exactly 2025-09-15 14:53:22.953197: great-unique-data-3.html\n",
      "Snoozing for 14.495520721653467 seconds\n",
      "scraping 4 of 15 at exactly 2025-09-15 14:53:37.454095: great-unique-data-4.html\n",
      "Snoozing for 8.603953255806232 seconds\n",
      "scraping 5 of 15 at exactly 2025-09-15 14:53:46.062863: great-unique-data-5.html\n",
      "Snoozing for 11.651167481377932 seconds\n",
      "scraping 6 of 15 at exactly 2025-09-15 14:53:57.719684: great-unique-data-6.html\n",
      "Snoozing for 15.943309295423449 seconds\n",
      "scraping 7 of 15 at exactly 2025-09-15 14:54:13.668883: great-unique-data-7.html\n",
      "Snoozing for 14.482913498406546 seconds\n",
      "scraping 8 of 15 at exactly 2025-09-15 14:54:28.153401: great-unique-data-8.html\n",
      "Snoozing for 12.981483022499598 seconds\n",
      "scraping 9 of 15 at exactly 2025-09-15 14:54:41.138624: great-unique-data-9.html\n",
      "Snoozing for 9.099645787974634 seconds\n",
      "scraping 10 of 15 at exactly 2025-09-15 14:54:50.243757: great-unique-data-10.html\n",
      "Snoozing for 9.809040126452887 seconds\n",
      "scraping 11 of 15 at exactly 2025-09-15 14:55:00.055347: great-unique-data-11.html\n",
      "Snoozing for 9.601148209879259 seconds\n",
      "scraping 12 of 15 at exactly 2025-09-15 14:55:09.658395: great-unique-data-12.html\n",
      "Snoozing for 10.639000378455826 seconds\n",
      "scraping 13 of 15 at exactly 2025-09-15 14:55:20.302579: great-unique-data-13.html\n",
      "Snoozing for 15.799570037588985 seconds\n",
      "scraping 14 of 15 at exactly 2025-09-15 14:55:36.106370: great-unique-data-14.html\n",
      "Snoozing for 10.400170213103166 seconds\n",
      "scraping 15 of 15 at exactly 2025-09-15 14:55:46.512167: great-unique-data-15.html\n",
      "Snoozing for 14.79632395974945 seconds\n",
      "All done\n"
     ]
    }
   ],
   "source": [
    "## snooze for a random number of seconds between 5 and 12 seconds between scrapes\n",
    "quantity = len(URLS)\n",
    "for i, URL in enumerate(URLS, start = 1):\n",
    "    current_time = dt.datetime.now()\n",
    "    print(f\"scraping {i} of {quantity} at exactly {current_time}: {URL}\")\n",
    "    seconds = uniform(8,16)\n",
    "    print(f\"Snoozing for {seconds} seconds\")\n",
    "    time.sleep(seconds)\n",
    "\n",
    "print(\"All done\")\n"
   ]
  },
  {
   "cell_type": "markdown",
   "id": "50e0c002",
   "metadata": {},
   "source": [
    "### ```range()``` and ```for loop```\n",
    "\n",
    "```range()``` is a built-in function that generates a sequence of numbers.\n",
    "\n",
    "It takes 2 import parameters:\n",
    "\n",
    "```range(start_number, end_number)```"
   ]
  },
  {
   "cell_type": "code",
   "execution_count": 71,
   "id": "f38de0bf",
   "metadata": {},
   "outputs": [
    {
     "data": {
      "text/plain": [
       "range(1, 10)"
      ]
     },
     "execution_count": 71,
     "metadata": {},
     "output_type": "execute_result"
    }
   ],
   "source": [
    "## can't just call range()\n",
    "range(1,10)"
   ]
  },
  {
   "cell_type": "markdown",
   "id": "36d10f92",
   "metadata": {},
   "source": [
    "### range() must be paired with ```for loops```"
   ]
  },
  {
   "cell_type": "code",
   "execution_count": 73,
   "id": "959fda11",
   "metadata": {},
   "outputs": [
    {
     "name": "stdout",
     "output_type": "stream",
     "text": [
      "1\n",
      "2\n",
      "3\n",
      "4\n",
      "5\n",
      "6\n",
      "7\n",
      "8\n",
      "9\n"
     ]
    }
   ],
   "source": [
    "## range 1-10 and print out each generated number\n",
    "for number in range(1, 10):\n",
    "    print(number)"
   ]
  },
  {
   "cell_type": "code",
   "execution_count": 75,
   "id": "a499318b",
   "metadata": {},
   "outputs": [],
   "source": [
    "# import libraries\n",
    "import pandas as pd\n",
    "# import randint necessary library\n",
    "from random import randint, uniform\n",
    "## import logging\n",
    "import logging\n",
    "# time is required. we will use its sleep function\n",
    "import time\n"
   ]
  },
  {
   "cell_type": "code",
   "execution_count": 81,
   "id": "9b080019",
   "metadata": {},
   "outputs": [],
   "source": [
    "## headers\n",
    "headers = {\"User-Agent\": \"Mozilla/5.0 (Windows NT 10.0; Win64; x64) \"           \n",
    "                         \"AppleWebKit/537.36 (KHTML, like Gecko) \"\n",
    "                         \"Chrome/124.0.0.0 Safari/537.36\"}"
   ]
  },
  {
   "cell_type": "code",
   "execution_count": 1,
   "id": "5e6860ce",
   "metadata": {},
   "outputs": [
    {
     "ename": "NameError",
     "evalue": "name 'pd' is not defined",
     "output_type": "error",
     "traceback": [
      "\u001b[0;31m---------------------------------------------------------------------------\u001b[0m",
      "\u001b[0;31mNameError\u001b[0m                                 Traceback (most recent call last)",
      "Cell \u001b[0;32mIn[1], line 5\u001b[0m\n\u001b[1;32m      2\u001b[0m url \u001b[38;5;241m=\u001b[39m \u001b[38;5;124m\"\u001b[39m\u001b[38;5;124mhttps://apps.health.ny.gov/pubdoh/professionals/doctors/conduct/factions/AllRecordsAction.action?d-49653-p=1\u001b[39m\u001b[38;5;124m\"\u001b[39m\n\u001b[1;32m      4\u001b[0m \u001b[38;5;66;03m## read the url:\u001b[39;00m\n\u001b[0;32m----> 5\u001b[0m response  \u001b[38;5;241m=\u001b[39m \u001b[43mpd\u001b[49m\u001b[38;5;241m.\u001b[39mread_html(url)\n",
      "\u001b[0;31mNameError\u001b[0m: name 'pd' is not defined"
     ]
    }
   ],
   "source": [
    "# simple scrape example of single page\n",
    "url = \"https://apps.health.ny.gov/pubdoh/professionals/doctors/conduct/factions/AllRecordsAction.action?d-49653-p=1\"\n",
    "\n",
    "## read the url:\n",
    "response  = pd.read_html(url)\n",
    "\n"
   ]
  },
  {
   "cell_type": "code",
   "execution_count": 101,
   "id": "e9e8a88d-8f6e-46a0-ac45-b8472210f88a",
   "metadata": {},
   "outputs": [
    {
     "data": {
      "text/plain": [
       "1"
      ]
     },
     "execution_count": 101,
     "metadata": {},
     "output_type": "execute_result"
    }
   ],
   "source": [
    "len(response)"
   ]
  },
  {
   "cell_type": "code",
   "execution_count": 103,
   "id": "74452a08-887a-44c4-9b3b-be7f148f9967",
   "metadata": {},
   "outputs": [
    {
     "data": {
      "text/plain": [
       "list"
      ]
     },
     "execution_count": 103,
     "metadata": {},
     "output_type": "execute_result"
    }
   ],
   "source": [
    "type(response)"
   ]
  },
  {
   "cell_type": "code",
   "execution_count": 107,
   "id": "9ea41142-e561-44ec-9091-2151df6e6e2f",
   "metadata": {},
   "outputs": [
    {
     "data": {
      "text/html": [
       "<div>\n",
       "<style scoped>\n",
       "    .dataframe tbody tr th:only-of-type {\n",
       "        vertical-align: middle;\n",
       "    }\n",
       "\n",
       "    .dataframe tbody tr th {\n",
       "        vertical-align: top;\n",
       "    }\n",
       "\n",
       "    .dataframe thead th {\n",
       "        text-align: right;\n",
       "    }\n",
       "</style>\n",
       "<table border=\"1\" class=\"dataframe\">\n",
       "  <thead>\n",
       "    <tr style=\"text-align: right;\">\n",
       "      <th></th>\n",
       "      <th>Animal</th>\n",
       "      <th>Weight(kg)</th>\n",
       "      <th>Type</th>\n",
       "    </tr>\n",
       "  </thead>\n",
       "  <tbody>\n",
       "    <tr>\n",
       "      <th>0</th>\n",
       "      <td>Blue whale</td>\n",
       "      <td>136000</td>\n",
       "      <td>Marine</td>\n",
       "    </tr>\n",
       "    <tr>\n",
       "      <th>1</th>\n",
       "      <td>Bowhead whale</td>\n",
       "      <td>100000</td>\n",
       "      <td>Marine</td>\n",
       "    </tr>\n",
       "    <tr>\n",
       "      <th>2</th>\n",
       "      <td>Fin whale</td>\n",
       "      <td>70000</td>\n",
       "      <td>Marine</td>\n",
       "    </tr>\n",
       "    <tr>\n",
       "      <th>3</th>\n",
       "      <td>Southern right whale</td>\n",
       "      <td>45000</td>\n",
       "      <td>Marine</td>\n",
       "    </tr>\n",
       "    <tr>\n",
       "      <th>4</th>\n",
       "      <td>Humpback whale</td>\n",
       "      <td>30000</td>\n",
       "      <td>Marine</td>\n",
       "    </tr>\n",
       "  </tbody>\n",
       "</table>\n",
       "</div>"
      ],
      "text/plain": [
       "                 Animal  Weight(kg)    Type\n",
       "0            Blue whale      136000  Marine\n",
       "1         Bowhead whale      100000  Marine\n",
       "2             Fin whale       70000  Marine\n",
       "3  Southern right whale       45000  Marine\n",
       "4        Humpback whale       30000  Marine"
      ]
     },
     "execution_count": 107,
     "metadata": {},
     "output_type": "execute_result"
    }
   ],
   "source": [
    "response[0]"
   ]
  },
  {
   "cell_type": "code",
   "execution_count": 113,
   "id": "c577c65f",
   "metadata": {},
   "outputs": [
    {
     "name": "stdout",
     "output_type": "stream",
     "text": [
      "Scraping page 1, url: https://sandeepmj.github.io/scrape-example-page/heaviest-animals-page1.html\n",
      "Snoozing for 12.300955446535562 seconds before next scrape\n",
      "Scraping page 2, url: https://sandeepmj.github.io/scrape-example-page/heaviest-animals-page2.html\n",
      "Snoozing for 17.10772549449547 seconds before next scrape\n",
      "Scraping page 3, url: https://sandeepmj.github.io/scrape-example-page/heaviest-animals-page3.html\n",
      "Snoozing for 15.2335010535359 seconds before next scrape\n",
      "Scraping page 4, url: https://sandeepmj.github.io/scrape-example-page/heaviest-animals-page4.html\n",
      "Oh no...encountered an issue: No tables found at https://sandeepmj.github.io/scrape-example-page/heaviest-animals-page4.html\n",
      "Snoozing for 7.596019168329496 seconds before next scrape\n",
      "Scraping page 5, url: https://sandeepmj.github.io/scrape-example-page/heaviest-animals-page5.html\n",
      "Snoozing for 16.937485581701893 seconds before next scrape\n",
      "done scraping all urls\n"
     ]
    }
   ],
   "source": [
    "## full scrape example of multiple pages with error handling and snoozing\n",
    "base_url = \"https://sandeepmj.github.io/scrape-example-page/heaviest-animals-page\"\n",
    "df_list = []\n",
    "broken_links = []\n",
    "\n",
    "for i, number in enumerate(range(1,6), start = 1):\n",
    "    url = f\"{base_url}{number}.html\"\n",
    "    print(f\"Scraping page {i}, url: {url}\")\n",
    "    try:\n",
    "        df = pd.read_html(url)[0]\n",
    "        df[\"source_url\"] = url\n",
    "        df_list.append(df)\n",
    "    except Exception as e:\n",
    "        print(f\"Oh no...encountered an issue: {e} at {url}\")\n",
    "        broken_links.append(url)\n",
    "    finally:\n",
    "        snoozer = uniform(5,20)\n",
    "        print(f\"Snoozing for {snoozer} seconds before next scrape\")\n",
    "        time.sleep(snoozer)\n",
    "\n",
    "print(\"done scraping all urls\")"
   ]
  },
  {
   "cell_type": "code",
   "execution_count": null,
   "id": "f59e2ab7-3003-413b-b6c2-9358958d88e6",
   "metadata": {},
   "outputs": [],
   "source": [
    "pip install html5lib"
   ]
  },
  {
   "cell_type": "code",
   "execution_count": 117,
   "id": "1894dbc8",
   "metadata": {},
   "outputs": [
    {
     "data": {
      "text/plain": [
       "4"
      ]
     },
     "execution_count": 117,
     "metadata": {},
     "output_type": "execute_result"
    }
   ],
   "source": [
    "# call the list\n",
    "len(df_list)"
   ]
  },
  {
   "cell_type": "code",
   "execution_count": 125,
   "id": "0e7e0e85",
   "metadata": {},
   "outputs": [
    {
     "data": {
      "text/html": [
       "<div>\n",
       "<style scoped>\n",
       "    .dataframe tbody tr th:only-of-type {\n",
       "        vertical-align: middle;\n",
       "    }\n",
       "\n",
       "    .dataframe tbody tr th {\n",
       "        vertical-align: top;\n",
       "    }\n",
       "\n",
       "    .dataframe thead th {\n",
       "        text-align: right;\n",
       "    }\n",
       "</style>\n",
       "<table border=\"1\" class=\"dataframe\">\n",
       "  <thead>\n",
       "    <tr style=\"text-align: right;\">\n",
       "      <th></th>\n",
       "      <th>Animal</th>\n",
       "      <th>Weight(kg)</th>\n",
       "      <th>Type</th>\n",
       "      <th>source_url</th>\n",
       "    </tr>\n",
       "  </thead>\n",
       "  <tbody>\n",
       "    <tr>\n",
       "      <th>0</th>\n",
       "      <td>Blue whale</td>\n",
       "      <td>136000</td>\n",
       "      <td>Marine</td>\n",
       "      <td>https://sandeepmj.github.io/scrape-example-pag...</td>\n",
       "    </tr>\n",
       "    <tr>\n",
       "      <th>1</th>\n",
       "      <td>Bowhead whale</td>\n",
       "      <td>100000</td>\n",
       "      <td>Marine</td>\n",
       "      <td>https://sandeepmj.github.io/scrape-example-pag...</td>\n",
       "    </tr>\n",
       "    <tr>\n",
       "      <th>2</th>\n",
       "      <td>Fin whale</td>\n",
       "      <td>70000</td>\n",
       "      <td>Marine</td>\n",
       "      <td>https://sandeepmj.github.io/scrape-example-pag...</td>\n",
       "    </tr>\n",
       "    <tr>\n",
       "      <th>3</th>\n",
       "      <td>Southern right whale</td>\n",
       "      <td>45000</td>\n",
       "      <td>Marine</td>\n",
       "      <td>https://sandeepmj.github.io/scrape-example-pag...</td>\n",
       "    </tr>\n",
       "    <tr>\n",
       "      <th>4</th>\n",
       "      <td>Humpback whale</td>\n",
       "      <td>30000</td>\n",
       "      <td>Marine</td>\n",
       "      <td>https://sandeepmj.github.io/scrape-example-pag...</td>\n",
       "    </tr>\n",
       "    <tr>\n",
       "      <th>5</th>\n",
       "      <td>Gray whale</td>\n",
       "      <td>28500</td>\n",
       "      <td>Marine</td>\n",
       "      <td>https://sandeepmj.github.io/scrape-example-pag...</td>\n",
       "    </tr>\n",
       "    <tr>\n",
       "      <th>6</th>\n",
       "      <td>Northern right whale</td>\n",
       "      <td>23000</td>\n",
       "      <td>Marine</td>\n",
       "      <td>https://sandeepmj.github.io/scrape-example-pag...</td>\n",
       "    </tr>\n",
       "    <tr>\n",
       "      <th>7</th>\n",
       "      <td>Sei whale</td>\n",
       "      <td>20000</td>\n",
       "      <td>Marine</td>\n",
       "      <td>https://sandeepmj.github.io/scrape-example-pag...</td>\n",
       "    </tr>\n",
       "    <tr>\n",
       "      <th>8</th>\n",
       "      <td>Bryde's whale</td>\n",
       "      <td>16000</td>\n",
       "      <td>Marine</td>\n",
       "      <td>https://sandeepmj.github.io/scrape-example-pag...</td>\n",
       "    </tr>\n",
       "    <tr>\n",
       "      <th>9</th>\n",
       "      <td>Baird's beaked whale</td>\n",
       "      <td>11380</td>\n",
       "      <td>Marine</td>\n",
       "      <td>https://sandeepmj.github.io/scrape-example-pag...</td>\n",
       "    </tr>\n",
       "    <tr>\n",
       "      <th>10</th>\n",
       "      <td>Minke whale</td>\n",
       "      <td>7500</td>\n",
       "      <td>Marine</td>\n",
       "      <td>https://sandeepmj.github.io/scrape-example-pag...</td>\n",
       "    </tr>\n",
       "    <tr>\n",
       "      <th>11</th>\n",
       "      <td>Northern bottlenose whale</td>\n",
       "      <td>6500</td>\n",
       "      <td>Marine</td>\n",
       "      <td>https://sandeepmj.github.io/scrape-example-pag...</td>\n",
       "    </tr>\n",
       "    <tr>\n",
       "      <th>12</th>\n",
       "      <td>Gervais's beaked whale</td>\n",
       "      <td>5600</td>\n",
       "      <td>Marine</td>\n",
       "      <td>https://sandeepmj.github.io/scrape-example-pag...</td>\n",
       "    </tr>\n",
       "    <tr>\n",
       "      <th>13</th>\n",
       "      <td>African elephant</td>\n",
       "      <td>4800</td>\n",
       "      <td>Terrestrial</td>\n",
       "      <td>https://sandeepmj.github.io/scrape-example-pag...</td>\n",
       "    </tr>\n",
       "    <tr>\n",
       "      <th>14</th>\n",
       "      <td>Killer whale</td>\n",
       "      <td>3988</td>\n",
       "      <td>Marine</td>\n",
       "      <td>https://sandeepmj.github.io/scrape-example-pag...</td>\n",
       "    </tr>\n",
       "    <tr>\n",
       "      <th>15</th>\n",
       "      <td>Hippopotamus</td>\n",
       "      <td>3750</td>\n",
       "      <td>Terrestrial</td>\n",
       "      <td>https://sandeepmj.github.io/scrape-example-pag...</td>\n",
       "    </tr>\n",
       "    <tr>\n",
       "      <th>16</th>\n",
       "      <td>Asian elephant</td>\n",
       "      <td>3178</td>\n",
       "      <td>Terrestrial</td>\n",
       "      <td>https://sandeepmj.github.io/scrape-example-pag...</td>\n",
       "    </tr>\n",
       "    <tr>\n",
       "      <th>17</th>\n",
       "      <td>Cuvier's beaked whale</td>\n",
       "      <td>2701</td>\n",
       "      <td>Marine</td>\n",
       "      <td>https://sandeepmj.github.io/scrape-example-pag...</td>\n",
       "    </tr>\n",
       "    <tr>\n",
       "      <th>18</th>\n",
       "      <td>Short-finned pilot whale</td>\n",
       "      <td>2200</td>\n",
       "      <td>Marine</td>\n",
       "      <td>https://sandeepmj.github.io/scrape-example-pag...</td>\n",
       "    </tr>\n",
       "    <tr>\n",
       "      <th>19</th>\n",
       "      <td>White rhinoceros</td>\n",
       "      <td>2175</td>\n",
       "      <td>Terrestrial</td>\n",
       "      <td>https://sandeepmj.github.io/scrape-example-pag...</td>\n",
       "    </tr>\n",
       "  </tbody>\n",
       "</table>\n",
       "</div>"
      ],
      "text/plain": [
       "                       Animal  Weight(kg)         Type  \\\n",
       "0                  Blue whale      136000       Marine   \n",
       "1               Bowhead whale      100000       Marine   \n",
       "2                   Fin whale       70000       Marine   \n",
       "3        Southern right whale       45000       Marine   \n",
       "4              Humpback whale       30000       Marine   \n",
       "5                  Gray whale       28500       Marine   \n",
       "6        Northern right whale       23000       Marine   \n",
       "7                   Sei whale       20000       Marine   \n",
       "8               Bryde's whale       16000       Marine   \n",
       "9        Baird's beaked whale       11380       Marine   \n",
       "10                Minke whale        7500       Marine   \n",
       "11  Northern bottlenose whale        6500       Marine   \n",
       "12     Gervais's beaked whale        5600       Marine   \n",
       "13           African elephant        4800  Terrestrial   \n",
       "14               Killer whale        3988       Marine   \n",
       "15               Hippopotamus        3750  Terrestrial   \n",
       "16             Asian elephant        3178  Terrestrial   \n",
       "17      Cuvier's beaked whale        2701       Marine   \n",
       "18   Short-finned pilot whale        2200       Marine   \n",
       "19           White rhinoceros        2175  Terrestrial   \n",
       "\n",
       "                                           source_url  \n",
       "0   https://sandeepmj.github.io/scrape-example-pag...  \n",
       "1   https://sandeepmj.github.io/scrape-example-pag...  \n",
       "2   https://sandeepmj.github.io/scrape-example-pag...  \n",
       "3   https://sandeepmj.github.io/scrape-example-pag...  \n",
       "4   https://sandeepmj.github.io/scrape-example-pag...  \n",
       "5   https://sandeepmj.github.io/scrape-example-pag...  \n",
       "6   https://sandeepmj.github.io/scrape-example-pag...  \n",
       "7   https://sandeepmj.github.io/scrape-example-pag...  \n",
       "8   https://sandeepmj.github.io/scrape-example-pag...  \n",
       "9   https://sandeepmj.github.io/scrape-example-pag...  \n",
       "10  https://sandeepmj.github.io/scrape-example-pag...  \n",
       "11  https://sandeepmj.github.io/scrape-example-pag...  \n",
       "12  https://sandeepmj.github.io/scrape-example-pag...  \n",
       "13  https://sandeepmj.github.io/scrape-example-pag...  \n",
       "14  https://sandeepmj.github.io/scrape-example-pag...  \n",
       "15  https://sandeepmj.github.io/scrape-example-pag...  \n",
       "16  https://sandeepmj.github.io/scrape-example-pag...  \n",
       "17  https://sandeepmj.github.io/scrape-example-pag...  \n",
       "18  https://sandeepmj.github.io/scrape-example-pag...  \n",
       "19  https://sandeepmj.github.io/scrape-example-pag...  "
      ]
     },
     "execution_count": 125,
     "metadata": {},
     "output_type": "execute_result"
    }
   ],
   "source": [
    "# concat the list into a single dataframe\n",
    "df = pd.concat(df_list, ignore_index= True )\n",
    "df"
   ]
  },
  {
   "cell_type": "markdown",
   "id": "9a1f127c",
   "metadata": {},
   "source": [
    "## To recap\n",
    "\n",
    "When we scrape, analyze data or documents, we need to control the flow of our code.\n",
    "\n",
    "- ```error handling``` will allos you to write script that doesn't break down when it encounters its first blip, and will even let you collect info on what exactly went wrong.\n",
    "- ```timers``` help so down your code so you are not flagged as a hacker!\n",
    "- ```headers``` so the site thinks you are a humand, and not ```code```.\n",
    "- ```random``` to generate random numbers.\n"
   ]
  },
  {
   "cell_type": "code",
   "execution_count": 127,
   "id": "a4abe463",
   "metadata": {},
   "outputs": [
    {
     "name": "stderr",
     "output_type": "stream",
     "text": [
      "/Users/sandeepjunnarkar/dataProjects/notebook-test-1/.venv/lib/python3.9/site-packages/urllib3/__init__.py:35: NotOpenSSLWarning: urllib3 v2 only supports OpenSSL 1.1.1+, currently the 'ssl' module is compiled with 'LibreSSL 2.8.3'. See: https://github.com/urllib3/urllib3/issues/3020\n",
      "  warnings.warn(\n"
     ]
    }
   ],
   "source": [
    "import requests"
   ]
  },
  {
   "cell_type": "code",
   "execution_count": null,
   "id": "6cac7cf2-53da-4dfc-92b2-243a72be240e",
   "metadata": {},
   "outputs": [],
   "source": []
  }
 ],
 "metadata": {
  "kernelspec": {
   "display_name": "test1",
   "language": "python",
   "name": "test1"
  },
  "language_info": {
   "codemirror_mode": {
    "name": "ipython",
    "version": 3
   },
   "file_extension": ".py",
   "mimetype": "text/x-python",
   "name": "python",
   "nbconvert_exporter": "python",
   "pygments_lexer": "ipython3",
   "version": "3.9.6"
  }
 },
 "nbformat": 4,
 "nbformat_minor": 5
}
