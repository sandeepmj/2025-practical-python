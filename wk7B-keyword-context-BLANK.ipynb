{
 "cells": [
  {
   "cell_type": "markdown",
   "id": "f309496c",
   "metadata": {},
   "source": [
    "# Keyword Context Investigations\n",
    "\n",
    "## MD Disciplinary action analysis\n",
    "\n",
    "We'll bring several previous lessons today and a couple of new lessons.\n",
    "\n",
    "We'll analysis <a href=\"https://drive.google.com/file/d/1m9dINJmoPGvFLTJagBSdvr9qmnExPSwZ/view?usp=sharing\">a sample set of disciplinary actions</a> against New York state doctors. (You already know how to download PDFs, convert them to markdown, etc).\n",
    "\n",
    "Here's a brief outline of what we need to do:\n",
    "1. Get to know the documents you are analyzing.\n",
    "2. Create a list of search terms.\n",
    "3. It's not enough to simply find the keywords. You need to context. Determine how much context you need.\n",
    "4. Run your code to process the PDFs into markdown and then into spreadsheets.\n",
    "5. Export your filtered dataframes into text files that are easier to read.\n",
    "\n"
   ]
  },
  {
   "cell_type": "code",
   "execution_count": null,
   "id": "4fb09087",
   "metadata": {},
   "outputs": [],
   "source": [
    "## Explore your pdfs and create a list of search terms\n",
    "\n",
    "keywords = [\"opioid\",\n",
    "            \"prescription\",\n",
    "            \"sexual\",\n",
    "            \"abuse\",\n",
    "            \"assault\",\n",
    "            \"unlawful\",\n",
    "            \"fraud\",\n",
    "            \"controlled substances\"]"
   ]
  },
  {
   "cell_type": "code",
   "execution_count": null,
   "id": "f3fa9c2d",
   "metadata": {},
   "outputs": [],
   "source": []
  },
  {
   "cell_type": "code",
   "execution_count": null,
   "id": "dff52f50-972f-4350-967c-5fc0e3c8e2cd",
   "metadata": {},
   "outputs": [],
   "source": []
  },
  {
   "cell_type": "code",
   "execution_count": null,
   "id": "3df3cd61",
   "metadata": {},
   "outputs": [],
   "source": [
    "## import libaries\n",
    "import pandas as pd\n",
    "import regex as re\n",
    "import glob\n",
    "from mangoCR import pdf2image_ocr_text"
   ]
  },
  {
   "cell_type": "code",
   "execution_count": null,
   "id": "1b3396aa",
   "metadata": {},
   "outputs": [],
   "source": [
    "## glob some pdfs together\n",
    "\n"
   ]
  },
  {
   "cell_type": "markdown",
   "id": "f2aedbed",
   "metadata": {},
   "source": [
    "### Single file analysis\n",
    "\n",
    "Let's see how it works on a single file before we iterate through all of them.\n"
   ]
  },
  {
   "cell_type": "code",
   "execution_count": null,
   "id": "9768b392",
   "metadata": {
    "scrolled": true
   },
   "outputs": [],
   "source": [
    "## convert pdf to text (not markdown)\n"
   ]
  },
  {
   "cell_type": "markdown",
   "id": "8d79f418",
   "metadata": {},
   "source": [
    "### Keyword Context Finder\n",
    "\n",
    "https://pypi.org/project/fuzzy-context-finder/"
   ]
  },
  {
   "cell_type": "code",
   "execution_count": null,
   "id": "0248e098",
   "metadata": {},
   "outputs": [],
   "source": []
  },
  {
   "cell_type": "code",
   "execution_count": null,
   "id": "a56e6ee1",
   "metadata": {},
   "outputs": [],
   "source": [
    "## import the package\n"
   ]
  },
  {
   "cell_type": "code",
   "execution_count": null,
   "id": "34a332a9",
   "metadata": {},
   "outputs": [],
   "source": [
    "## create df\n"
   ]
  },
  {
   "cell_type": "markdown",
   "id": "8674596e",
   "metadata": {},
   "source": [
    "## Hard to read text?\n",
    "\n",
    "We'll tap a package called <a href=\"https://pypi.org/project/tabular-2-text/\">tabular_2_text</a>.\n"
   ]
  },
  {
   "cell_type": "code",
   "execution_count": null,
   "id": "74685120",
   "metadata": {},
   "outputs": [],
   "source": []
  },
  {
   "cell_type": "code",
   "execution_count": null,
   "id": "45bb97f0",
   "metadata": {},
   "outputs": [],
   "source": [
    "## import package\n"
   ]
  },
  {
   "cell_type": "code",
   "execution_count": null,
   "id": "4e6109c9",
   "metadata": {},
   "outputs": [],
   "source": [
    "## convert to text\n"
   ]
  },
  {
   "cell_type": "markdown",
   "id": "ff2340c0",
   "metadata": {},
   "source": [
    "## Now iterate through all files"
   ]
  },
  {
   "cell_type": "code",
   "execution_count": null,
   "id": "9263ce4c",
   "metadata": {},
   "outputs": [],
   "source": [
    "## iterate through files\n"
   ]
  },
  {
   "cell_type": "code",
   "execution_count": null,
   "id": "7ca4a4e6",
   "metadata": {},
   "outputs": [],
   "source": [
    "## how long is df_list?\n",
    "\n"
   ]
  },
  {
   "cell_type": "code",
   "execution_count": null,
   "id": "a80227a2",
   "metadata": {},
   "outputs": [],
   "source": [
    "## concat them\n"
   ]
  },
  {
   "cell_type": "code",
   "execution_count": null,
   "id": "15874fcd",
   "metadata": {},
   "outputs": [],
   "source": [
    "## get info\n"
   ]
  },
  {
   "cell_type": "code",
   "execution_count": null,
   "id": "c825aeb1",
   "metadata": {},
   "outputs": [],
   "source": [
    "## convert to text\n"
   ]
  },
  {
   "cell_type": "code",
   "execution_count": null,
   "id": "7cb38914",
   "metadata": {},
   "outputs": [],
   "source": []
  }
 ],
 "metadata": {
  "kernelspec": {
   "display_name": "test1",
   "language": "python",
   "name": "test1"
  },
  "language_info": {
   "codemirror_mode": {
    "name": "ipython",
    "version": 3
   },
   "file_extension": ".py",
   "mimetype": "text/x-python",
   "name": "python",
   "nbconvert_exporter": "python",
   "pygments_lexer": "ipython3",
   "version": "3.9.6"
  }
 },
 "nbformat": 4,
 "nbformat_minor": 5
}
